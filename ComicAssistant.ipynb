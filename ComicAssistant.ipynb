{
 "cells": [
  {
   "cell_type": "code",
   "execution_count": 35,
   "id": "a55fea17-e698-4bc1-9c6e-4835c1308c86",
   "metadata": {},
   "outputs": [],
   "source": [
    "import gradio as gr\n",
    "import numpy as np\n",
    "import matplotlib.pyplot as plt\n",
    "        \n",
    "\n",
    "gr.set_static_paths(paths=[\"images/\"])"
   ]
  },
  {
   "cell_type": "code",
   "execution_count": 36,
   "id": "8e523b17-4309-48cb-a0f5-fcd026e8acfa",
   "metadata": {},
   "outputs": [],
   "source": [
    "def diffusion(input_img):\n",
    "    # get the size of image\n",
    "    # generate new ones by diffusion\n",
    "    # remove background\n",
    "    # resize to the original size\n",
    "    ### testing code: sepia filer\n",
    "    sepia_filter = np.array([\n",
    "        [0.393, 0.769, 0.189],\n",
    "        [0.349, 0.686, 0.168],\n",
    "        [0.272, 0.534, 0.131]\n",
    "    ])\n",
    "    sepia_img = input_img.dot(sepia_filter.T)\n",
    "    sepia_img /= sepia_img.max()\n",
    "    print(input_img.shape, sepia_img.shape)\n",
    "    \n",
    "    return sepia_img"
   ]
  },
  {
   "cell_type": "code",
   "execution_count": 40,
   "id": "1807fbee-bdb7-427d-860d-60c60fcbfa53",
   "metadata": {},
   "outputs": [
    {
     "name": "stdout",
     "output_type": "stream",
     "text": [
      "images/panel_1.png\n",
      "images/panel_2.png\n",
      "images/panel_3.png\n",
      "images/panel_4.png\n",
      "Running on local URL:  http://127.0.0.1:7881\n",
      "\n",
      "Thanks for being a Gradio user! If you have questions or feedback, please join our Discord server and chat with us: https://discord.gg/feTf9x3ZSB\n",
      "\n",
      "To create a public link, set `share=True` in `launch()`.\n"
     ]
    },
    {
     "data": {
      "text/html": [
       "<div><iframe src=\"http://127.0.0.1:7881/\" width=\"100%\" height=\"500\" allow=\"autoplay; camera; microphone; clipboard-read; clipboard-write;\" frameborder=\"0\" allowfullscreen></iframe></div>"
      ],
      "text/plain": [
       "<IPython.core.display.HTML object>"
      ]
     },
     "metadata": {},
     "output_type": "display_data"
    },
    {
     "data": {
      "text/plain": []
     },
     "execution_count": 40,
     "metadata": {},
     "output_type": "execute_result"
    },
    {
     "data": {
      "image/png": "[encoded data removed]",
      "text/plain": [
       "<Figure size 640x480 with 1 Axes>"
      ]
     },
     "metadata": {},
     "output_type": "display_data"
    }
   ],
   "source": [
    "panel_number = 4\n",
    "# image seqeucne\n",
    "panel_list = []\n",
    "\n",
    "with gr.Blocks() as demo:\n",
    "    with gr.Row():\n",
    "        \n",
    "        with gr.Column():\n",
    "            chara_1 = gr.Image(height = 100, width = 100)\n",
    "            chara_2 = gr.Image(height = 100, width = 100)\n",
    "            gr.Button(value = \"+\")\n",
    "\n",
    "        \n",
    "        with gr.Column():\n",
    "            scene_1 = gr.Image(height = 100, width = 100)\n",
    "            scene_2 = gr.Image(height = 100, width = 100)\n",
    "            gr.Button(value = \"+\")\n",
    "\n",
    "        with gr.Column():\n",
    "            with gr.Row():\n",
    "                # image seqeucne\n",
    "                # for total_panel in range(panel_number):\n",
    "                #     panel_list[total_panel].value = \"images/panel_\"+str(total_panel+1)+\".png\"\n",
    "                for total_panel in range(panel_number):\n",
    "                    image_path = \"images/panel_\"+str(total_panel+1)+\".png\"\n",
    "                    print(image_path)\n",
    "                    panel_list.append(gr.Image(value=image_path, height = 100, width = 100, type =\"pil\"))                    \n",
    "         \n",
    "            with gr.Row():\n",
    "                with gr.Row():\n",
    "                    gr.Label(value = \"Nrrative Arc\")\n",
    "                    \n",
    "                with gr.Row():\n",
    "                    ### test with plot\n",
    "                    plt.plot([1,2,3,4], [1,4,9,16], 'ro')\n",
    "                    plt.axis([0, 6, 0, 20])\n",
    "                    gr.Plot(value = plt)\n",
    "\n",
    "        with gr.Column():\n",
    "            with gr.Row():\n",
    "                gr.Label(value = \"AI suggestions\")\n",
    "                gr.Button(value = \"Narrative Arc\")\n",
    "                gr.Button(value = \"Panel Transition\")\n",
    "                gr.Button(value = \"Composition\")\n",
    "                gr.Button(value = \"Narrative Grammar\")\n",
    "                gr.Button(value = \"Textboxes\")\n",
    "                gr.Button(value = \"Customized icons\")\n",
    "                gr.Button(value = \"+\")\n",
    "\n",
    "            with gr.Row():\n",
    "                gr.Button(value = \"Layout\")\n",
    "                \n",
    "            \n",
    "demo.launch()"
   ]
  },
  {
   "cell_type": "code",
   "execution_count": null,
   "id": "ce8623b6-3b80-4a37-a1df-033bdf0e2d10",
   "metadata": {},
   "outputs": [],
   "source": []
  }
 ],
 "metadata": {
  "kernelspec": {
   "display_name": "Python 3 (ipykernel)",
   "language": "python",
   "name": "python3"
  },
  "language_info": {
   "codemirror_mode": {
    "name": "ipython",
    "version": 3
   },
   "file_extension": ".py",
   "mimetype": "text/x-python",
   "name": "python",
   "nbconvert_exporter": "python",
   "pygments_lexer": "ipython3",
   "version": "3.11.5"
  }
 },
 "nbformat": 4,
 "nbformat_minor": 5
}
